{
 "cells": [
  {
   "cell_type": "code",
   "execution_count": 90,
   "metadata": {},
   "outputs": [],
   "source": [
    "import plotly.express as px\n"
   ]
  },
  {
   "cell_type": "code",
   "execution_count": 91,
   "metadata": {},
   "outputs": [
    {
     "name": "stderr",
     "output_type": "stream",
     "text": [
      "/tmp/ipykernel_829842/675138941.py:13: PerformanceWarning:\n",
      "\n",
      "DataFrame is highly fragmented.  This is usually the result of calling `frame.insert` many times, which has poor performance.  Consider joining all columns at once using pd.concat(axis=1) instead. To get a de-fragmented frame, use `newframe = frame.copy()`\n",
      "\n",
      "/tmp/ipykernel_829842/675138941.py:13: PerformanceWarning:\n",
      "\n",
      "DataFrame is highly fragmented.  This is usually the result of calling `frame.insert` many times, which has poor performance.  Consider joining all columns at once using pd.concat(axis=1) instead. To get a de-fragmented frame, use `newframe = frame.copy()`\n",
      "\n",
      "/tmp/ipykernel_829842/675138941.py:13: PerformanceWarning:\n",
      "\n",
      "DataFrame is highly fragmented.  This is usually the result of calling `frame.insert` many times, which has poor performance.  Consider joining all columns at once using pd.concat(axis=1) instead. To get a de-fragmented frame, use `newframe = frame.copy()`\n",
      "\n",
      "/tmp/ipykernel_829842/675138941.py:13: PerformanceWarning:\n",
      "\n",
      "DataFrame is highly fragmented.  This is usually the result of calling `frame.insert` many times, which has poor performance.  Consider joining all columns at once using pd.concat(axis=1) instead. To get a de-fragmented frame, use `newframe = frame.copy()`\n",
      "\n",
      "/tmp/ipykernel_829842/675138941.py:13: PerformanceWarning:\n",
      "\n",
      "DataFrame is highly fragmented.  This is usually the result of calling `frame.insert` many times, which has poor performance.  Consider joining all columns at once using pd.concat(axis=1) instead. To get a de-fragmented frame, use `newframe = frame.copy()`\n",
      "\n",
      "/tmp/ipykernel_829842/675138941.py:13: PerformanceWarning:\n",
      "\n",
      "DataFrame is highly fragmented.  This is usually the result of calling `frame.insert` many times, which has poor performance.  Consider joining all columns at once using pd.concat(axis=1) instead. To get a de-fragmented frame, use `newframe = frame.copy()`\n",
      "\n",
      "/tmp/ipykernel_829842/675138941.py:13: PerformanceWarning:\n",
      "\n",
      "DataFrame is highly fragmented.  This is usually the result of calling `frame.insert` many times, which has poor performance.  Consider joining all columns at once using pd.concat(axis=1) instead. To get a de-fragmented frame, use `newframe = frame.copy()`\n",
      "\n",
      "/tmp/ipykernel_829842/675138941.py:13: PerformanceWarning:\n",
      "\n",
      "DataFrame is highly fragmented.  This is usually the result of calling `frame.insert` many times, which has poor performance.  Consider joining all columns at once using pd.concat(axis=1) instead. To get a de-fragmented frame, use `newframe = frame.copy()`\n",
      "\n",
      "/tmp/ipykernel_829842/675138941.py:13: PerformanceWarning:\n",
      "\n",
      "DataFrame is highly fragmented.  This is usually the result of calling `frame.insert` many times, which has poor performance.  Consider joining all columns at once using pd.concat(axis=1) instead. To get a de-fragmented frame, use `newframe = frame.copy()`\n",
      "\n",
      "/tmp/ipykernel_829842/675138941.py:13: PerformanceWarning:\n",
      "\n",
      "DataFrame is highly fragmented.  This is usually the result of calling `frame.insert` many times, which has poor performance.  Consider joining all columns at once using pd.concat(axis=1) instead. To get a de-fragmented frame, use `newframe = frame.copy()`\n",
      "\n"
     ]
    },
    {
     "data": {
      "text/html": [
       "<div>\n",
       "<style scoped>\n",
       "    .dataframe tbody tr th:only-of-type {\n",
       "        vertical-align: middle;\n",
       "    }\n",
       "\n",
       "    .dataframe tbody tr th {\n",
       "        vertical-align: top;\n",
       "    }\n",
       "\n",
       "    .dataframe thead th {\n",
       "        text-align: right;\n",
       "    }\n",
       "</style>\n",
       "<table border=\"1\" class=\"dataframe\">\n",
       "  <thead>\n",
       "    <tr style=\"text-align: right;\">\n",
       "      <th></th>\n",
       "      <th>valid/mcc</th>\n",
       "      <th>test/mcc</th>\n",
       "      <th>nu</th>\n",
       "      <th>gamma</th>\n",
       "      <th>beta</th>\n",
       "      <th>scaler</th>\n",
       "      <th>lr</th>\n",
       "      <th>wd</th>\n",
       "      <th>warmup</th>\n",
       "      <th>dropout</th>\n",
       "      <th>layer1</th>\n",
       "      <th>layer2</th>\n",
       "    </tr>\n",
       "  </thead>\n",
       "  <tbody>\n",
       "    <tr>\n",
       "      <th>20</th>\n",
       "      <td>0.440124</td>\n",
       "      <td>0.387037</td>\n",
       "      <td>76.473082</td>\n",
       "      <td>0.024848</td>\n",
       "      <td>79.120348</td>\n",
       "      <td>standard</td>\n",
       "      <td>0.000553</td>\n",
       "      <td>6.144296e-08</td>\n",
       "      <td>32</td>\n",
       "      <td>0.279188</td>\n",
       "      <td>1181</td>\n",
       "      <td>433</td>\n",
       "    </tr>\n",
       "    <tr>\n",
       "      <th>24</th>\n",
       "      <td>0.407429</td>\n",
       "      <td>0.351592</td>\n",
       "      <td>57.622094</td>\n",
       "      <td>32.680946</td>\n",
       "      <td>1.324487</td>\n",
       "      <td>robust</td>\n",
       "      <td>0.000287</td>\n",
       "      <td>2.170773e-06</td>\n",
       "      <td>157</td>\n",
       "      <td>0.155707</td>\n",
       "      <td>561</td>\n",
       "      <td>893</td>\n",
       "    </tr>\n",
       "    <tr>\n",
       "      <th>22</th>\n",
       "      <td>0.385491</td>\n",
       "      <td>0.369496</td>\n",
       "      <td>35.284166</td>\n",
       "      <td>1.280292</td>\n",
       "      <td>0.951337</td>\n",
       "      <td>standard</td>\n",
       "      <td>0.000680</td>\n",
       "      <td>7.422964e-07</td>\n",
       "      <td>125</td>\n",
       "      <td>0.374438</td>\n",
       "      <td>1494</td>\n",
       "      <td>736</td>\n",
       "    </tr>\n",
       "    <tr>\n",
       "      <th>23</th>\n",
       "      <td>0.373960</td>\n",
       "      <td>0.316839</td>\n",
       "      <td>16.412847</td>\n",
       "      <td>0.311273</td>\n",
       "      <td>0.039342</td>\n",
       "      <td>standard</td>\n",
       "      <td>0.002936</td>\n",
       "      <td>2.138239e-07</td>\n",
       "      <td>327</td>\n",
       "      <td>0.439087</td>\n",
       "      <td>1930</td>\n",
       "      <td>372</td>\n",
       "    </tr>\n",
       "    <tr>\n",
       "      <th>42</th>\n",
       "      <td>0.354808</td>\n",
       "      <td>0.446296</td>\n",
       "      <td>30.429942</td>\n",
       "      <td>0.259931</td>\n",
       "      <td>4.727596</td>\n",
       "      <td>robust_per_batch</td>\n",
       "      <td>0.000115</td>\n",
       "      <td>1.251691e-08</td>\n",
       "      <td>557</td>\n",
       "      <td>0.195098</td>\n",
       "      <td>679</td>\n",
       "      <td>485</td>\n",
       "    </tr>\n",
       "    <tr>\n",
       "      <th>45</th>\n",
       "      <td>0.352244</td>\n",
       "      <td>0.358363</td>\n",
       "      <td>93.589484</td>\n",
       "      <td>0.712981</td>\n",
       "      <td>0.858310</td>\n",
       "      <td>robust_per_batch</td>\n",
       "      <td>0.009794</td>\n",
       "      <td>3.355079e-08</td>\n",
       "      <td>16</td>\n",
       "      <td>0.418412</td>\n",
       "      <td>817</td>\n",
       "      <td>187</td>\n",
       "    </tr>\n",
       "    <tr>\n",
       "      <th>38</th>\n",
       "      <td>0.342973</td>\n",
       "      <td>0.370105</td>\n",
       "      <td>17.463063</td>\n",
       "      <td>0.014966</td>\n",
       "      <td>0.020760</td>\n",
       "      <td>standard_per_batch</td>\n",
       "      <td>0.000178</td>\n",
       "      <td>9.657395e-08</td>\n",
       "      <td>928</td>\n",
       "      <td>0.223334</td>\n",
       "      <td>944</td>\n",
       "      <td>372</td>\n",
       "    </tr>\n",
       "    <tr>\n",
       "      <th>35</th>\n",
       "      <td>0.338345</td>\n",
       "      <td>0.430333</td>\n",
       "      <td>11.207632</td>\n",
       "      <td>0.518979</td>\n",
       "      <td>0.052918</td>\n",
       "      <td>robust</td>\n",
       "      <td>0.001687</td>\n",
       "      <td>4.378396e-08</td>\n",
       "      <td>596</td>\n",
       "      <td>0.305531</td>\n",
       "      <td>747</td>\n",
       "      <td>296</td>\n",
       "    </tr>\n",
       "    <tr>\n",
       "      <th>21</th>\n",
       "      <td>0.337520</td>\n",
       "      <td>0.395790</td>\n",
       "      <td>88.996343</td>\n",
       "      <td>0.079815</td>\n",
       "      <td>30.783486</td>\n",
       "      <td>standard_per_batch</td>\n",
       "      <td>0.006962</td>\n",
       "      <td>3.065884e-08</td>\n",
       "      <td>393</td>\n",
       "      <td>0.032949</td>\n",
       "      <td>941</td>\n",
       "      <td>265</td>\n",
       "    </tr>\n",
       "    <tr>\n",
       "      <th>48</th>\n",
       "      <td>0.334937</td>\n",
       "      <td>0.357637</td>\n",
       "      <td>57.622094</td>\n",
       "      <td>29.474790</td>\n",
       "      <td>0.013416</td>\n",
       "      <td>standard</td>\n",
       "      <td>0.000287</td>\n",
       "      <td>2.170773e-06</td>\n",
       "      <td>369</td>\n",
       "      <td>0.156368</td>\n",
       "      <td>720</td>\n",
       "      <td>142</td>\n",
       "    </tr>\n",
       "    <tr>\n",
       "      <th>41</th>\n",
       "      <td>0.332881</td>\n",
       "      <td>0.328372</td>\n",
       "      <td>63.878475</td>\n",
       "      <td>7.767837</td>\n",
       "      <td>0.060779</td>\n",
       "      <td>robust</td>\n",
       "      <td>0.001149</td>\n",
       "      <td>8.779022e-07</td>\n",
       "      <td>159</td>\n",
       "      <td>0.371535</td>\n",
       "      <td>908</td>\n",
       "      <td>37</td>\n",
       "    </tr>\n",
       "    <tr>\n",
       "      <th>34</th>\n",
       "      <td>0.329946</td>\n",
       "      <td>0.387590</td>\n",
       "      <td>37.751990</td>\n",
       "      <td>12.117551</td>\n",
       "      <td>0.290513</td>\n",
       "      <td>robust</td>\n",
       "      <td>0.000498</td>\n",
       "      <td>3.889674e-06</td>\n",
       "      <td>792</td>\n",
       "      <td>0.051477</td>\n",
       "      <td>780</td>\n",
       "      <td>461</td>\n",
       "    </tr>\n",
       "    <tr>\n",
       "      <th>43</th>\n",
       "      <td>0.324859</td>\n",
       "      <td>0.194731</td>\n",
       "      <td>19.512103</td>\n",
       "      <td>60.690442</td>\n",
       "      <td>24.385277</td>\n",
       "      <td>standard_per_batch</td>\n",
       "      <td>0.003383</td>\n",
       "      <td>4.686658e-06</td>\n",
       "      <td>815</td>\n",
       "      <td>0.448901</td>\n",
       "      <td>839</td>\n",
       "      <td>320</td>\n",
       "    </tr>\n",
       "    <tr>\n",
       "      <th>37</th>\n",
       "      <td>0.324700</td>\n",
       "      <td>0.375890</td>\n",
       "      <td>76.106782</td>\n",
       "      <td>44.130836</td>\n",
       "      <td>1.612823</td>\n",
       "      <td>standard</td>\n",
       "      <td>0.001793</td>\n",
       "      <td>8.402337e-06</td>\n",
       "      <td>284</td>\n",
       "      <td>0.342796</td>\n",
       "      <td>670</td>\n",
       "      <td>165</td>\n",
       "    </tr>\n",
       "    <tr>\n",
       "      <th>47</th>\n",
       "      <td>0.323642</td>\n",
       "      <td>0.433121</td>\n",
       "      <td>49.174486</td>\n",
       "      <td>0.088129</td>\n",
       "      <td>1.855739</td>\n",
       "      <td>robust</td>\n",
       "      <td>0.002882</td>\n",
       "      <td>1.788865e-07</td>\n",
       "      <td>967</td>\n",
       "      <td>0.277020</td>\n",
       "      <td>1022</td>\n",
       "      <td>409</td>\n",
       "    </tr>\n",
       "    <tr>\n",
       "      <th>44</th>\n",
       "      <td>0.321845</td>\n",
       "      <td>0.369482</td>\n",
       "      <td>87.333292</td>\n",
       "      <td>0.018047</td>\n",
       "      <td>0.106543</td>\n",
       "      <td>robust</td>\n",
       "      <td>0.000339</td>\n",
       "      <td>8.301265e-08</td>\n",
       "      <td>489</td>\n",
       "      <td>0.109470</td>\n",
       "      <td>619</td>\n",
       "      <td>233</td>\n",
       "    </tr>\n",
       "    <tr>\n",
       "      <th>36</th>\n",
       "      <td>0.321638</td>\n",
       "      <td>0.336652</td>\n",
       "      <td>94.850373</td>\n",
       "      <td>1.759049</td>\n",
       "      <td>7.310812</td>\n",
       "      <td>standard_per_batch</td>\n",
       "      <td>0.000169</td>\n",
       "      <td>6.596392e-07</td>\n",
       "      <td>244</td>\n",
       "      <td>0.128331</td>\n",
       "      <td>967</td>\n",
       "      <td>270</td>\n",
       "    </tr>\n",
       "    <tr>\n",
       "      <th>32</th>\n",
       "      <td>0.321279</td>\n",
       "      <td>0.354905</td>\n",
       "      <td>52.092215</td>\n",
       "      <td>0.029241</td>\n",
       "      <td>0.543556</td>\n",
       "      <td>standard</td>\n",
       "      <td>0.000485</td>\n",
       "      <td>1.226204e-06</td>\n",
       "      <td>607</td>\n",
       "      <td>0.250909</td>\n",
       "      <td>914</td>\n",
       "      <td>227</td>\n",
       "    </tr>\n",
       "    <tr>\n",
       "      <th>46</th>\n",
       "      <td>0.319495</td>\n",
       "      <td>0.449213</td>\n",
       "      <td>0.767748</td>\n",
       "      <td>2.123805</td>\n",
       "      <td>34.934160</td>\n",
       "      <td>robust</td>\n",
       "      <td>0.000974</td>\n",
       "      <td>3.279994e-07</td>\n",
       "      <td>669</td>\n",
       "      <td>0.023194</td>\n",
       "      <td>541</td>\n",
       "      <td>333</td>\n",
       "    </tr>\n",
       "    <tr>\n",
       "      <th>31</th>\n",
       "      <td>0.304203</td>\n",
       "      <td>0.226539</td>\n",
       "      <td>41.886612</td>\n",
       "      <td>98.730359</td>\n",
       "      <td>69.885759</td>\n",
       "      <td>standard</td>\n",
       "      <td>0.004833</td>\n",
       "      <td>2.355367e-08</td>\n",
       "      <td>202</td>\n",
       "      <td>0.182961</td>\n",
       "      <td>700</td>\n",
       "      <td>312</td>\n",
       "    </tr>\n",
       "  </tbody>\n",
       "</table>\n",
       "</div>"
      ],
      "text/plain": [
       "    valid/mcc  test/mcc         nu      gamma       beta              scaler  \\\n",
       "20   0.440124  0.387037  76.473082   0.024848  79.120348            standard   \n",
       "24   0.407429  0.351592  57.622094  32.680946   1.324487              robust   \n",
       "22   0.385491  0.369496  35.284166   1.280292   0.951337            standard   \n",
       "23   0.373960  0.316839  16.412847   0.311273   0.039342            standard   \n",
       "42   0.354808  0.446296  30.429942   0.259931   4.727596    robust_per_batch   \n",
       "45   0.352244  0.358363  93.589484   0.712981   0.858310    robust_per_batch   \n",
       "38   0.342973  0.370105  17.463063   0.014966   0.020760  standard_per_batch   \n",
       "35   0.338345  0.430333  11.207632   0.518979   0.052918              robust   \n",
       "21   0.337520  0.395790  88.996343   0.079815  30.783486  standard_per_batch   \n",
       "48   0.334937  0.357637  57.622094  29.474790   0.013416            standard   \n",
       "41   0.332881  0.328372  63.878475   7.767837   0.060779              robust   \n",
       "34   0.329946  0.387590  37.751990  12.117551   0.290513              robust   \n",
       "43   0.324859  0.194731  19.512103  60.690442  24.385277  standard_per_batch   \n",
       "37   0.324700  0.375890  76.106782  44.130836   1.612823            standard   \n",
       "47   0.323642  0.433121  49.174486   0.088129   1.855739              robust   \n",
       "44   0.321845  0.369482  87.333292   0.018047   0.106543              robust   \n",
       "36   0.321638  0.336652  94.850373   1.759049   7.310812  standard_per_batch   \n",
       "32   0.321279  0.354905  52.092215   0.029241   0.543556            standard   \n",
       "46   0.319495  0.449213   0.767748   2.123805  34.934160              robust   \n",
       "31   0.304203  0.226539  41.886612  98.730359  69.885759            standard   \n",
       "\n",
       "          lr            wd  warmup   dropout  layer1  layer2  \n",
       "20  0.000553  6.144296e-08      32  0.279188    1181     433  \n",
       "24  0.000287  2.170773e-06     157  0.155707     561     893  \n",
       "22  0.000680  7.422964e-07     125  0.374438    1494     736  \n",
       "23  0.002936  2.138239e-07     327  0.439087    1930     372  \n",
       "42  0.000115  1.251691e-08     557  0.195098     679     485  \n",
       "45  0.009794  3.355079e-08      16  0.418412     817     187  \n",
       "38  0.000178  9.657395e-08     928  0.223334     944     372  \n",
       "35  0.001687  4.378396e-08     596  0.305531     747     296  \n",
       "21  0.006962  3.065884e-08     393  0.032949     941     265  \n",
       "48  0.000287  2.170773e-06     369  0.156368     720     142  \n",
       "41  0.001149  8.779022e-07     159  0.371535     908      37  \n",
       "34  0.000498  3.889674e-06     792  0.051477     780     461  \n",
       "43  0.003383  4.686658e-06     815  0.448901     839     320  \n",
       "37  0.001793  8.402337e-06     284  0.342796     670     165  \n",
       "47  0.002882  1.788865e-07     967  0.277020    1022     409  \n",
       "44  0.000339  8.301265e-08     489  0.109470     619     233  \n",
       "36  0.000169  6.596392e-07     244  0.128331     967     270  \n",
       "32  0.000485  1.226204e-06     607  0.250909     914     227  \n",
       "46  0.000974  3.279994e-07     669  0.023194     541     333  \n",
       "31  0.004833  2.355367e-08     202  0.182961     700     312  "
      ]
     },
     "execution_count": 91,
     "metadata": {},
     "output_type": "execute_result"
    }
   ],
   "source": [
    "import plotly.express as px\n",
    "import pandas as pd\n",
    "import numpy as np\n",
    "import ast\n",
    "\n",
    "runs1 = pd.read_csv('../metrics_mlflow_alzheimer_ae_then_classifier_20_633762619237375258_values.csv')\n",
    "runs2 = pd.read_csv('../metrics_mlflow_alzheimer_ae_then_classifier_20_518544190099611502_values.csv')\n",
    "runs = pd.concat([runs1, runs2], axis=0)\n",
    "# runs.iloc[np.argwhere(runs.loc[:, 'model'] == 'DANN_vae1_zinb0'), :]\n",
    "params = runs.loc[:, 'params.parameters']\n",
    "hparams = ['nu', 'gamma', 'beta', 'scaler', 'lr', 'wd', 'warmup', 'dropout', 'layer1', 'layer2']\n",
    "for i in ['nu', 'gamma', 'beta', 'scaler', 'lr', 'wd', 'warmup', 'dropout', 'layer1', 'layer2']:\n",
    "    runs.loc[:, i] = runs.loc[:, 'params.parameters'].apply(lambda x: ast.literal_eval(x)[i])\n",
    "runs.loc[:, 'valid/mcc'] = [np.mean(ast.literal_eval(x)) for x in runs.loc[:, 'valid/mcc']]\n",
    "runs.loc[:, 'test/mcc'] = [np.mean(ast.literal_eval(x)) for x in runs.loc[:, 'test/mcc']]\n",
    "runs = runs.loc[:, ['valid/mcc', 'test/mcc'] + hparams]\n",
    "#runs.loc[:, 'beta'] += np.random.normal(0, 0.1, runs.shape[0])\n",
    "#runs.loc[:, 'gamma'] += np.random.normal(0, 0.1, runs.shape[0])\n",
    "# tokeep = [x for x in runs.columns if x not in ]\n",
    "# runs.drop(['params.parameters', 'params.dloss', 'params.n_meta', 'params.predict_tests', 'params.remove_zeros', 'params.variational', 'params.bad_batches', 'params.scaler', 'params.groupkfold', 'params.threshold', 'params.train_after_warmup', 'params.zinb', 'params.n_agg', 'params.tied_weights', 'params.n_emb', 'params.random_recs', 'params.use_mapping'], axis=1, inplace=True)\n",
    "new_runs = runs.drop_duplicates(subset=['beta'])\n",
    "new_runs = new_runs.iloc[np.argwhere(np.array(new_runs.loc[:, 'valid/mcc'] < 0.45)).flatten()]\n",
    "new_runs = new_runs.iloc[np.argwhere(np.array(new_runs.loc[:, 'beta'] > 0)).flatten()]\n",
    "new_runs = new_runs.iloc[np.argwhere(np.array(new_runs.loc[:, 'gamma'] > 0)).flatten()]\n",
    "\n",
    "#new_runs2 = runs.drop_duplicates(subset=['gamma', 'nu'])\n",
    "#new_runs2 = new_runs2.iloc[np.argwhere(np.array(new_runs.loc[:, 'valid/mcc'] < 0.45)).flatten()]\n",
    "\n",
    "\n",
    "\n",
    "#runs = pd.concat([new_runs, new_runs2], axis=0)\n",
    "# round all values of runs to 2\n",
    "# new_runs = new_runs.round(2)\n",
    "new_runs = new_runs.sort_values(by='valid/mcc', ascending=False)\n",
    "runs = new_runs.iloc[[0, 1, 2, 3, 4, 5, 6, 7, 8, 9, 10, 12, 14, 15, 16, 18, 19, 20, 22, 23], :]\n",
    "runs"
   ]
  },
  {
   "cell_type": "code",
   "execution_count": 92,
   "metadata": {},
   "outputs": [],
   "source": [
    "import plotly.graph_objects as go\n",
    "import matplotlib.pyplot as plt\n",
    "runs_ = runs.copy()\n",
    "dimensions = list([                    \n",
    "                   dict(range=(runs_['valid/mcc'].min(),runs_['valid/mcc'].max()),label='valid/mcc', values=runs_['valid/mcc']),\n",
    "                    dict(range=(runs_['test/mcc'].min(),runs_['test/mcc'].max()),label='test/mcc', values=runs_['test/mcc']),\n",
    "                    dict(range=(runs_['nu'].min(), runs_['nu'].max()),label='nu', values=runs_['nu']),\n",
    "                    dict(range=(runs_['gamma'].min(), runs_['gamma'].max()),label='gamma', values=runs_['gamma']),\n",
    "                    dict(range=(runs_['beta'].min(), runs_['beta'].max()),label='beta', values=runs_['beta']),\n",
    "                    dict(range=(runs_['lr'].min(), runs_['lr'].max()),label='lr', values=runs_['lr']),\n",
    "                    dict(range=(runs_['wd'].min(), runs_['wd'].max()),label='wd', values=runs_['wd']),\n",
    "                    dict(range=(runs_['warmup'].min(), runs_['warmup'].max()),label='warmup', values=runs_['warmup']),\n",
    "                    dict(range=(runs_['dropout'].min(), runs_['dropout'].max()),label='dropout', values=runs_['dropout']),\n",
    "                    dict(range=(runs_['layer1'].min(), runs_['layer1'].max()),label='layer1', values=runs_['layer1']),\n",
    "                    dict(range=(runs_['layer2'].min(), runs_['layer2'].max()),label='layer2', values=runs_['layer2']),\n",
    "                  ])\n",
    "fig = go.Figure(data= go.Parcoords(line = dict(color = runs_['valid/mcc'], colorscale = 'agsunset', showscale=True), dimensions = dimensions))\n",
    "# fig.update_traces(showlegend=True)\n",
    "# fig.show()\n",
    "fig.write_image(\"parcoords.png\")\n"
   ]
  },
  {
   "cell_type": "code",
   "execution_count": 93,
   "metadata": {},
   "outputs": [
    {
     "name": "stderr",
     "output_type": "stream",
     "text": [
      "/tmp/ipykernel_829842/987150940.py:1: SettingWithCopyWarning:\n",
      "\n",
      "\n",
      "A value is trying to be set on a copy of a slice from a DataFrame.\n",
      "Try using .loc[row_indexer,col_indexer] = value instead\n",
      "\n",
      "See the caveats in the documentation: https://pandas.pydata.org/pandas-docs/stable/user_guide/indexing.html#returning-a-view-versus-a-copy\n",
      "\n",
      "/tmp/ipykernel_829842/987150940.py:2: SettingWithCopyWarning:\n",
      "\n",
      "\n",
      "A value is trying to be set on a copy of a slice from a DataFrame.\n",
      "Try using .loc[row_indexer,col_indexer] = value instead\n",
      "\n",
      "See the caveats in the documentation: https://pandas.pydata.org/pandas-docs/stable/user_guide/indexing.html#returning-a-view-versus-a-copy\n",
      "\n",
      "/tmp/ipykernel_829842/987150940.py:3: SettingWithCopyWarning:\n",
      "\n",
      "\n",
      "A value is trying to be set on a copy of a slice from a DataFrame.\n",
      "Try using .loc[row_indexer,col_indexer] = value instead\n",
      "\n",
      "See the caveats in the documentation: https://pandas.pydata.org/pandas-docs/stable/user_guide/indexing.html#returning-a-view-versus-a-copy\n",
      "\n",
      "/tmp/ipykernel_829842/987150940.py:4: SettingWithCopyWarning:\n",
      "\n",
      "\n",
      "A value is trying to be set on a copy of a slice from a DataFrame.\n",
      "Try using .loc[row_indexer,col_indexer] = value instead\n",
      "\n",
      "See the caveats in the documentation: https://pandas.pydata.org/pandas-docs/stable/user_guide/indexing.html#returning-a-view-versus-a-copy\n",
      "\n",
      "/tmp/ipykernel_829842/987150940.py:5: SettingWithCopyWarning:\n",
      "\n",
      "\n",
      "A value is trying to be set on a copy of a slice from a DataFrame.\n",
      "Try using .loc[row_indexer,col_indexer] = value instead\n",
      "\n",
      "See the caveats in the documentation: https://pandas.pydata.org/pandas-docs/stable/user_guide/indexing.html#returning-a-view-versus-a-copy\n",
      "\n"
     ]
    }
   ],
   "source": [
    "runs.loc[:, 'beta'] = runs.loc[:, 'beta'].apply(lambda x: np.log(x))\n",
    "runs.loc[:, 'gamma'] = runs.loc[:, 'gamma'].apply(lambda x: np.log(x))\n",
    "runs.loc[:, 'nu'] = runs.loc[:, 'nu'].apply(lambda x: np.log(x))\n",
    "runs.loc[:, 'lr'] = runs.loc[:, 'lr'].apply(lambda x: np.log(x))\n",
    "runs.loc[:, 'wd'] = runs.loc[:, 'wd'].apply(lambda x: np.log(x))\n",
    "\n",
    "runs.columns = ['valid/mcc', 'test/mcc', 'nu (log)', 'gamma (log)', 'beta (log)', 'scaler', 'learning rate (log)', 'weight decay (log)', 'warmup', 'dropout', 'layer 1', 'layer 2']"
   ]
  },
  {
   "cell_type": "code",
   "execution_count": 94,
   "metadata": {},
   "outputs": [
    {
     "data": {
      "application/vnd.plotly.v1+json": {
       "config": {
        "plotlyServerURL": "https://plot.ly"
       },
       "data": [
        {
         "dimensions": [
          {
           "label": "valid/mcc",
           "range": [
            0.30420269816882184,
            0.44012384900881
           ],
           "values": [
            0.44012384900881,
            0.40742901259975317,
            0.3854914234596602,
            0.3739599101432939,
            0.3548075678484723,
            0.3522438744201607,
            0.3429731428728758,
            0.33834520671538526,
            0.3375204554295764,
            0.334937211223798,
            0.3328807839858952,
            0.3299459230840013,
            0.32485869575844195,
            0.3247004036857398,
            0.3236419589931079,
            0.3218449406764946,
            0.3216381198285987,
            0.3212791213073896,
            0.31949505489602964,
            0.30420269816882184
           ]
          },
          {
           "label": "test/mcc",
           "range": [
            0.19473147557509524,
            0.44921294324128197
           ],
           "values": [
            0.3870371488603509,
            0.35159152904078816,
            0.36949574101385907,
            0.31683933426431843,
            0.44629632726121277,
            0.3583628412244663,
            0.3701050275374097,
            0.4303325006313485,
            0.39579019067004734,
            0.35763740519954723,
            0.32837208972908594,
            0.3875901844053867,
            0.19473147557509524,
            0.37588953265250286,
            0.4331210505838177,
            0.3694824117744284,
            0.33665178597063106,
            0.3549048893448471,
            0.44921294324128197,
            0.22653872021697113
           ]
          },
          {
           "label": "nu (log)",
           "range": [
            -0.26429395269329636,
            4.552300630049837
           ],
           "values": [
            4.336938815820967,
            4.05390606389671,
            3.5634343114726232,
            2.798064363459435,
            3.4154270478871647,
            4.538918029987163,
            2.8600879648562363,
            2.416595017498551,
            4.48859527850791,
            4.05390606389671,
            4.15698245053082,
            3.6310381978295445,
            2.9710349520175003,
            4.332137382088123,
            3.8953749189825913,
            4.46973174557251,
            4.552300630049837,
            3.9530155168131818,
            -0.26429395269329636,
            3.7349662538366606
           ]
          },
          {
           "label": "gamma (log)",
           "range": [
            -4.201988070992791,
            4.592392492356717
           ],
           "values": [
            -3.694982425986941,
            3.4867922283800836,
            0.24708852964974323,
            -1.1670840408456848,
            -1.3473373456897217,
            -0.33830086966411793,
            -4.201988070992791,
            -0.6558918471703196,
            -2.528049560251592,
            3.383535304810367,
            2.0499917186476524,
            2.4946548634358505,
            4.105786223224502,
            3.7871587732414436,
            -2.42895019239446,
            -4.014764250279107,
            0.5647735112432221,
            -3.5321985185404112,
            0.7532094777349261,
            4.592392492356717
           ]
          },
          {
           "label": "beta (log)",
           "range": [
            -4.311280864994268,
            4.370970089340719
           ],
           "values": [
            4.370970089340719,
            0.2810251288483422,
            -0.0498867570751711,
            -3.2354531768440253,
            1.5534168131430781,
            -0.15278964061402,
            -3.874746281682329,
            -2.9390151090243104,
            3.426978377207823,
            -4.311280864994268,
            -2.8005100152224203,
            -1.2361057463382206,
            3.193979566846318,
            0.4779861054800321,
            0.618282775308649,
            -2.2392045591403167,
            1.9893543559872044,
            -0.6096224675622552,
            3.553465135515971,
            4.24686189434796
           ]
          },
          {
           "label": "learning rate (log)",
           "range": [
            -9.067904811083531,
            -4.625952916516946
           ],
           "values": [
            -7.499848729162523,
            -8.157117857587295,
            -7.293432737541628,
            -5.830738047551363,
            -9.067904811083531,
            -4.625952916516946,
            -8.632246621383885,
            -6.384890988336699,
            -4.967350499892934,
            -8.157117857587295,
            -6.76845775534278,
            -7.604493184455191,
            -5.689101418466994,
            -6.323782996216214,
            -5.849150621006778,
            -7.988623409850273,
            -8.683850687911493,
            -7.631291468901461,
            -6.933854524365666,
            -5.332331752171071
           ]
          },
          {
           "label": "weight decay (log)",
           "range": [
            -18.19618508106843,
            -11.687000653759792
           ],
           "values": [
            -16.605156627013205,
            -13.040427189473071,
            -14.113517202654043,
            -15.358113137561642,
            -18.19618508106843,
            -17.21020548135313,
            -16.152956803815567,
            -16.943998322546545,
            -17.300344753860323,
            -13.040427189473071,
            -13.945730637689406,
            -12.45718518610987,
            -12.270790829876121,
            -11.687000653759792,
            -15.536514154869806,
            -16.304272825926827,
            -14.231572826242514,
            -13.611587512449427,
            -14.930254190520959,
            -17.56398420247429
           ]
          },
          {
           "label": "warmup",
           "range": [
            16,
            967
           ],
           "values": [
            32,
            157,
            125,
            327,
            557,
            16,
            928,
            596,
            393,
            369,
            159,
            792,
            815,
            284,
            967,
            489,
            244,
            607,
            669,
            202
           ]
          },
          {
           "label": "dropout",
           "range": [
            0.02319350093603134,
            0.44890051102265716
           ],
           "values": [
            0.27918820083141327,
            0.15570732951164246,
            0.3744383375160396,
            0.4390872595831752,
            0.19509833911433816,
            0.4184123855084181,
            0.22333367308601737,
            0.30553078278899193,
            0.032949117943644524,
            0.15636830031871796,
            0.3715347279794514,
            0.051476589404046535,
            0.44890051102265716,
            0.3427957217209041,
            0.2770204721018672,
            0.10946967033669353,
            0.1283313874155283,
            0.2509093773551285,
            0.02319350093603134,
            0.18296100432053208
           ]
          },
          {
           "label": "layer 1",
           "range": [
            541,
            1930
           ],
           "values": [
            1181,
            561,
            1494,
            1930,
            679,
            817,
            944,
            747,
            941,
            720,
            908,
            780,
            839,
            670,
            1022,
            619,
            967,
            914,
            541,
            700
           ]
          },
          {
           "label": "layer 2",
           "range": [
            37,
            893
           ],
           "values": [
            433,
            893,
            736,
            372,
            485,
            187,
            372,
            296,
            265,
            142,
            37,
            461,
            320,
            165,
            409,
            233,
            270,
            227,
            333,
            312
           ]
          }
         ],
         "line": {
          "color": [
           0.44012384900881,
           0.40742901259975317,
           0.3854914234596602,
           0.3739599101432939,
           0.3548075678484723,
           0.3522438744201607,
           0.3429731428728758,
           0.33834520671538526,
           0.3375204554295764,
           0.334937211223798,
           0.3328807839858952,
           0.3299459230840013,
           0.32485869575844195,
           0.3247004036857398,
           0.3236419589931079,
           0.3218449406764946,
           0.3216381198285987,
           0.3212791213073896,
           0.31949505489602964,
           0.30420269816882184
          ],
          "colorscale": [
           [
            0,
            "rgb(75, 41, 145)"
           ],
           [
            0.16666666666666666,
            "rgb(135, 44, 162)"
           ],
           [
            0.3333333333333333,
            "rgb(192, 54, 157)"
           ],
           [
            0.5,
            "rgb(234, 79, 136)"
           ],
           [
            0.6666666666666666,
            "rgb(250, 120, 118)"
           ],
           [
            0.8333333333333334,
            "rgb(246, 169, 122)"
           ],
           [
            1,
            "rgb(237, 217, 163)"
           ]
          ],
          "showscale": true
         },
         "type": "parcoords"
        }
       ],
       "layout": {
        "template": {
         "data": {
          "bar": [
           {
            "error_x": {
             "color": "#2a3f5f"
            },
            "error_y": {
             "color": "#2a3f5f"
            },
            "marker": {
             "line": {
              "color": "#E5ECF6",
              "width": 0.5
             },
             "pattern": {
              "fillmode": "overlay",
              "size": 10,
              "solidity": 0.2
             }
            },
            "type": "bar"
           }
          ],
          "barpolar": [
           {
            "marker": {
             "line": {
              "color": "#E5ECF6",
              "width": 0.5
             },
             "pattern": {
              "fillmode": "overlay",
              "size": 10,
              "solidity": 0.2
             }
            },
            "type": "barpolar"
           }
          ],
          "carpet": [
           {
            "aaxis": {
             "endlinecolor": "#2a3f5f",
             "gridcolor": "white",
             "linecolor": "white",
             "minorgridcolor": "white",
             "startlinecolor": "#2a3f5f"
            },
            "baxis": {
             "endlinecolor": "#2a3f5f",
             "gridcolor": "white",
             "linecolor": "white",
             "minorgridcolor": "white",
             "startlinecolor": "#2a3f5f"
            },
            "type": "carpet"
           }
          ],
          "choropleth": [
           {
            "colorbar": {
             "outlinewidth": 0,
             "ticks": ""
            },
            "type": "choropleth"
           }
          ],
          "contour": [
           {
            "colorbar": {
             "outlinewidth": 0,
             "ticks": ""
            },
            "colorscale": [
             [
              0,
              "#0d0887"
             ],
             [
              0.1111111111111111,
              "#46039f"
             ],
             [
              0.2222222222222222,
              "#7201a8"
             ],
             [
              0.3333333333333333,
              "#9c179e"
             ],
             [
              0.4444444444444444,
              "#bd3786"
             ],
             [
              0.5555555555555556,
              "#d8576b"
             ],
             [
              0.6666666666666666,
              "#ed7953"
             ],
             [
              0.7777777777777778,
              "#fb9f3a"
             ],
             [
              0.8888888888888888,
              "#fdca26"
             ],
             [
              1,
              "#f0f921"
             ]
            ],
            "type": "contour"
           }
          ],
          "contourcarpet": [
           {
            "colorbar": {
             "outlinewidth": 0,
             "ticks": ""
            },
            "type": "contourcarpet"
           }
          ],
          "heatmap": [
           {
            "colorbar": {
             "outlinewidth": 0,
             "ticks": ""
            },
            "colorscale": [
             [
              0,
              "#0d0887"
             ],
             [
              0.1111111111111111,
              "#46039f"
             ],
             [
              0.2222222222222222,
              "#7201a8"
             ],
             [
              0.3333333333333333,
              "#9c179e"
             ],
             [
              0.4444444444444444,
              "#bd3786"
             ],
             [
              0.5555555555555556,
              "#d8576b"
             ],
             [
              0.6666666666666666,
              "#ed7953"
             ],
             [
              0.7777777777777778,
              "#fb9f3a"
             ],
             [
              0.8888888888888888,
              "#fdca26"
             ],
             [
              1,
              "#f0f921"
             ]
            ],
            "type": "heatmap"
           }
          ],
          "heatmapgl": [
           {
            "colorbar": {
             "outlinewidth": 0,
             "ticks": ""
            },
            "colorscale": [
             [
              0,
              "#0d0887"
             ],
             [
              0.1111111111111111,
              "#46039f"
             ],
             [
              0.2222222222222222,
              "#7201a8"
             ],
             [
              0.3333333333333333,
              "#9c179e"
             ],
             [
              0.4444444444444444,
              "#bd3786"
             ],
             [
              0.5555555555555556,
              "#d8576b"
             ],
             [
              0.6666666666666666,
              "#ed7953"
             ],
             [
              0.7777777777777778,
              "#fb9f3a"
             ],
             [
              0.8888888888888888,
              "#fdca26"
             ],
             [
              1,
              "#f0f921"
             ]
            ],
            "type": "heatmapgl"
           }
          ],
          "histogram": [
           {
            "marker": {
             "pattern": {
              "fillmode": "overlay",
              "size": 10,
              "solidity": 0.2
             }
            },
            "type": "histogram"
           }
          ],
          "histogram2d": [
           {
            "colorbar": {
             "outlinewidth": 0,
             "ticks": ""
            },
            "colorscale": [
             [
              0,
              "#0d0887"
             ],
             [
              0.1111111111111111,
              "#46039f"
             ],
             [
              0.2222222222222222,
              "#7201a8"
             ],
             [
              0.3333333333333333,
              "#9c179e"
             ],
             [
              0.4444444444444444,
              "#bd3786"
             ],
             [
              0.5555555555555556,
              "#d8576b"
             ],
             [
              0.6666666666666666,
              "#ed7953"
             ],
             [
              0.7777777777777778,
              "#fb9f3a"
             ],
             [
              0.8888888888888888,
              "#fdca26"
             ],
             [
              1,
              "#f0f921"
             ]
            ],
            "type": "histogram2d"
           }
          ],
          "histogram2dcontour": [
           {
            "colorbar": {
             "outlinewidth": 0,
             "ticks": ""
            },
            "colorscale": [
             [
              0,
              "#0d0887"
             ],
             [
              0.1111111111111111,
              "#46039f"
             ],
             [
              0.2222222222222222,
              "#7201a8"
             ],
             [
              0.3333333333333333,
              "#9c179e"
             ],
             [
              0.4444444444444444,
              "#bd3786"
             ],
             [
              0.5555555555555556,
              "#d8576b"
             ],
             [
              0.6666666666666666,
              "#ed7953"
             ],
             [
              0.7777777777777778,
              "#fb9f3a"
             ],
             [
              0.8888888888888888,
              "#fdca26"
             ],
             [
              1,
              "#f0f921"
             ]
            ],
            "type": "histogram2dcontour"
           }
          ],
          "mesh3d": [
           {
            "colorbar": {
             "outlinewidth": 0,
             "ticks": ""
            },
            "type": "mesh3d"
           }
          ],
          "parcoords": [
           {
            "line": {
             "colorbar": {
              "outlinewidth": 0,
              "ticks": ""
             }
            },
            "type": "parcoords"
           }
          ],
          "pie": [
           {
            "automargin": true,
            "type": "pie"
           }
          ],
          "scatter": [
           {
            "marker": {
             "colorbar": {
              "outlinewidth": 0,
              "ticks": ""
             }
            },
            "type": "scatter"
           }
          ],
          "scatter3d": [
           {
            "line": {
             "colorbar": {
              "outlinewidth": 0,
              "ticks": ""
             }
            },
            "marker": {
             "colorbar": {
              "outlinewidth": 0,
              "ticks": ""
             }
            },
            "type": "scatter3d"
           }
          ],
          "scattercarpet": [
           {
            "marker": {
             "colorbar": {
              "outlinewidth": 0,
              "ticks": ""
             }
            },
            "type": "scattercarpet"
           }
          ],
          "scattergeo": [
           {
            "marker": {
             "colorbar": {
              "outlinewidth": 0,
              "ticks": ""
             }
            },
            "type": "scattergeo"
           }
          ],
          "scattergl": [
           {
            "marker": {
             "colorbar": {
              "outlinewidth": 0,
              "ticks": ""
             }
            },
            "type": "scattergl"
           }
          ],
          "scattermapbox": [
           {
            "marker": {
             "colorbar": {
              "outlinewidth": 0,
              "ticks": ""
             }
            },
            "type": "scattermapbox"
           }
          ],
          "scatterpolar": [
           {
            "marker": {
             "colorbar": {
              "outlinewidth": 0,
              "ticks": ""
             }
            },
            "type": "scatterpolar"
           }
          ],
          "scatterpolargl": [
           {
            "marker": {
             "colorbar": {
              "outlinewidth": 0,
              "ticks": ""
             }
            },
            "type": "scatterpolargl"
           }
          ],
          "scatterternary": [
           {
            "marker": {
             "colorbar": {
              "outlinewidth": 0,
              "ticks": ""
             }
            },
            "type": "scatterternary"
           }
          ],
          "surface": [
           {
            "colorbar": {
             "outlinewidth": 0,
             "ticks": ""
            },
            "colorscale": [
             [
              0,
              "#0d0887"
             ],
             [
              0.1111111111111111,
              "#46039f"
             ],
             [
              0.2222222222222222,
              "#7201a8"
             ],
             [
              0.3333333333333333,
              "#9c179e"
             ],
             [
              0.4444444444444444,
              "#bd3786"
             ],
             [
              0.5555555555555556,
              "#d8576b"
             ],
             [
              0.6666666666666666,
              "#ed7953"
             ],
             [
              0.7777777777777778,
              "#fb9f3a"
             ],
             [
              0.8888888888888888,
              "#fdca26"
             ],
             [
              1,
              "#f0f921"
             ]
            ],
            "type": "surface"
           }
          ],
          "table": [
           {
            "cells": {
             "fill": {
              "color": "#EBF0F8"
             },
             "line": {
              "color": "white"
             }
            },
            "header": {
             "fill": {
              "color": "#C8D4E3"
             },
             "line": {
              "color": "white"
             }
            },
            "type": "table"
           }
          ]
         },
         "layout": {
          "annotationdefaults": {
           "arrowcolor": "#2a3f5f",
           "arrowhead": 0,
           "arrowwidth": 1
          },
          "autotypenumbers": "strict",
          "coloraxis": {
           "colorbar": {
            "outlinewidth": 0,
            "ticks": ""
           }
          },
          "colorscale": {
           "diverging": [
            [
             0,
             "#8e0152"
            ],
            [
             0.1,
             "#c51b7d"
            ],
            [
             0.2,
             "#de77ae"
            ],
            [
             0.3,
             "#f1b6da"
            ],
            [
             0.4,
             "#fde0ef"
            ],
            [
             0.5,
             "#f7f7f7"
            ],
            [
             0.6,
             "#e6f5d0"
            ],
            [
             0.7,
             "#b8e186"
            ],
            [
             0.8,
             "#7fbc41"
            ],
            [
             0.9,
             "#4d9221"
            ],
            [
             1,
             "#276419"
            ]
           ],
           "sequential": [
            [
             0,
             "#0d0887"
            ],
            [
             0.1111111111111111,
             "#46039f"
            ],
            [
             0.2222222222222222,
             "#7201a8"
            ],
            [
             0.3333333333333333,
             "#9c179e"
            ],
            [
             0.4444444444444444,
             "#bd3786"
            ],
            [
             0.5555555555555556,
             "#d8576b"
            ],
            [
             0.6666666666666666,
             "#ed7953"
            ],
            [
             0.7777777777777778,
             "#fb9f3a"
            ],
            [
             0.8888888888888888,
             "#fdca26"
            ],
            [
             1,
             "#f0f921"
            ]
           ],
           "sequentialminus": [
            [
             0,
             "#0d0887"
            ],
            [
             0.1111111111111111,
             "#46039f"
            ],
            [
             0.2222222222222222,
             "#7201a8"
            ],
            [
             0.3333333333333333,
             "#9c179e"
            ],
            [
             0.4444444444444444,
             "#bd3786"
            ],
            [
             0.5555555555555556,
             "#d8576b"
            ],
            [
             0.6666666666666666,
             "#ed7953"
            ],
            [
             0.7777777777777778,
             "#fb9f3a"
            ],
            [
             0.8888888888888888,
             "#fdca26"
            ],
            [
             1,
             "#f0f921"
            ]
           ]
          },
          "colorway": [
           "#636efa",
           "#EF553B",
           "#00cc96",
           "#ab63fa",
           "#FFA15A",
           "#19d3f3",
           "#FF6692",
           "#B6E880",
           "#FF97FF",
           "#FECB52"
          ],
          "font": {
           "color": "#2a3f5f"
          },
          "geo": {
           "bgcolor": "white",
           "lakecolor": "white",
           "landcolor": "#E5ECF6",
           "showlakes": true,
           "showland": true,
           "subunitcolor": "white"
          },
          "hoverlabel": {
           "align": "left"
          },
          "hovermode": "closest",
          "mapbox": {
           "style": "light"
          },
          "paper_bgcolor": "white",
          "plot_bgcolor": "#E5ECF6",
          "polar": {
           "angularaxis": {
            "gridcolor": "white",
            "linecolor": "white",
            "ticks": ""
           },
           "bgcolor": "#E5ECF6",
           "radialaxis": {
            "gridcolor": "white",
            "linecolor": "white",
            "ticks": ""
           }
          },
          "scene": {
           "xaxis": {
            "backgroundcolor": "#E5ECF6",
            "gridcolor": "white",
            "gridwidth": 2,
            "linecolor": "white",
            "showbackground": true,
            "ticks": "",
            "zerolinecolor": "white"
           },
           "yaxis": {
            "backgroundcolor": "#E5ECF6",
            "gridcolor": "white",
            "gridwidth": 2,
            "linecolor": "white",
            "showbackground": true,
            "ticks": "",
            "zerolinecolor": "white"
           },
           "zaxis": {
            "backgroundcolor": "#E5ECF6",
            "gridcolor": "white",
            "gridwidth": 2,
            "linecolor": "white",
            "showbackground": true,
            "ticks": "",
            "zerolinecolor": "white"
           }
          },
          "shapedefaults": {
           "line": {
            "color": "#2a3f5f"
           }
          },
          "ternary": {
           "aaxis": {
            "gridcolor": "white",
            "linecolor": "white",
            "ticks": ""
           },
           "baxis": {
            "gridcolor": "white",
            "linecolor": "white",
            "ticks": ""
           },
           "bgcolor": "#E5ECF6",
           "caxis": {
            "gridcolor": "white",
            "linecolor": "white",
            "ticks": ""
           }
          },
          "title": {
           "x": 0.05
          },
          "xaxis": {
           "automargin": true,
           "gridcolor": "white",
           "linecolor": "white",
           "ticks": "",
           "title": {
            "standoff": 15
           },
           "zerolinecolor": "white",
           "zerolinewidth": 2
          },
          "yaxis": {
           "automargin": true,
           "gridcolor": "white",
           "linecolor": "white",
           "ticks": "",
           "title": {
            "standoff": 15
           },
           "zerolinecolor": "white",
           "zerolinewidth": 2
          }
         }
        }
       }
      },
      "text/html": [
       "<div>                            <div id=\"037784c9-df43-4198-b9bd-fbdc602a6dcc\" class=\"plotly-graph-div\" style=\"height:525px; width:100%;\"></div>            <script type=\"text/javascript\">                require([\"plotly\"], function(Plotly) {                    window.PLOTLYENV=window.PLOTLYENV || {};                                    if (document.getElementById(\"037784c9-df43-4198-b9bd-fbdc602a6dcc\")) {                    Plotly.newPlot(                        \"037784c9-df43-4198-b9bd-fbdc602a6dcc\",                        [{\"dimensions\":[{\"label\":\"valid/mcc\",\"range\":[0.30420269816882184,0.44012384900881],\"values\":[0.44012384900881,0.40742901259975317,0.3854914234596602,0.3739599101432939,0.3548075678484723,0.3522438744201607,0.3429731428728758,0.33834520671538526,0.3375204554295764,0.334937211223798,0.3328807839858952,0.3299459230840013,0.32485869575844195,0.3247004036857398,0.3236419589931079,0.3218449406764946,0.3216381198285987,0.3212791213073896,0.31949505489602964,0.30420269816882184]},{\"label\":\"test/mcc\",\"range\":[0.19473147557509524,0.44921294324128197],\"values\":[0.3870371488603509,0.35159152904078816,0.36949574101385907,0.31683933426431843,0.44629632726121277,0.3583628412244663,0.3701050275374097,0.4303325006313485,0.39579019067004734,0.35763740519954723,0.32837208972908594,0.3875901844053867,0.19473147557509524,0.37588953265250286,0.4331210505838177,0.3694824117744284,0.33665178597063106,0.3549048893448471,0.44921294324128197,0.22653872021697113]},{\"label\":\"nu (log)\",\"range\":[-0.26429395269329636,4.552300630049837],\"values\":[4.336938815820967,4.05390606389671,3.5634343114726232,2.798064363459435,3.4154270478871647,4.538918029987163,2.8600879648562363,2.416595017498551,4.48859527850791,4.05390606389671,4.15698245053082,3.6310381978295445,2.9710349520175003,4.332137382088123,3.8953749189825913,4.46973174557251,4.552300630049837,3.9530155168131818,-0.26429395269329636,3.7349662538366606]},{\"label\":\"gamma (log)\",\"range\":[-4.201988070992791,4.592392492356717],\"values\":[-3.694982425986941,3.4867922283800836,0.24708852964974323,-1.1670840408456848,-1.3473373456897217,-0.33830086966411793,-4.201988070992791,-0.6558918471703196,-2.528049560251592,3.383535304810367,2.0499917186476524,2.4946548634358505,4.105786223224502,3.7871587732414436,-2.42895019239446,-4.014764250279107,0.5647735112432221,-3.5321985185404112,0.7532094777349261,4.592392492356717]},{\"label\":\"beta (log)\",\"range\":[-4.311280864994268,4.370970089340719],\"values\":[4.370970089340719,0.2810251288483422,-0.0498867570751711,-3.2354531768440253,1.5534168131430781,-0.15278964061402,-3.874746281682329,-2.9390151090243104,3.426978377207823,-4.311280864994268,-2.8005100152224203,-1.2361057463382206,3.193979566846318,0.4779861054800321,0.618282775308649,-2.2392045591403167,1.9893543559872044,-0.6096224675622552,3.553465135515971,4.24686189434796]},{\"label\":\"learning rate (log)\",\"range\":[-9.067904811083531,-4.625952916516946],\"values\":[-7.499848729162523,-8.157117857587295,-7.293432737541628,-5.830738047551363,-9.067904811083531,-4.625952916516946,-8.632246621383885,-6.384890988336699,-4.967350499892934,-8.157117857587295,-6.76845775534278,-7.604493184455191,-5.689101418466994,-6.323782996216214,-5.849150621006778,-7.988623409850273,-8.683850687911493,-7.631291468901461,-6.933854524365666,-5.332331752171071]},{\"label\":\"weight decay (log)\",\"range\":[-18.19618508106843,-11.687000653759792],\"values\":[-16.605156627013205,-13.040427189473071,-14.113517202654043,-15.358113137561642,-18.19618508106843,-17.21020548135313,-16.152956803815567,-16.943998322546545,-17.300344753860323,-13.040427189473071,-13.945730637689406,-12.45718518610987,-12.270790829876121,-11.687000653759792,-15.536514154869806,-16.304272825926827,-14.231572826242514,-13.611587512449427,-14.930254190520959,-17.56398420247429]},{\"label\":\"warmup\",\"range\":[16,967],\"values\":[32,157,125,327,557,16,928,596,393,369,159,792,815,284,967,489,244,607,669,202]},{\"label\":\"dropout\",\"range\":[0.02319350093603134,0.44890051102265716],\"values\":[0.27918820083141327,0.15570732951164246,0.3744383375160396,0.4390872595831752,0.19509833911433816,0.4184123855084181,0.22333367308601737,0.30553078278899193,0.032949117943644524,0.15636830031871796,0.3715347279794514,0.051476589404046535,0.44890051102265716,0.3427957217209041,0.2770204721018672,0.10946967033669353,0.1283313874155283,0.2509093773551285,0.02319350093603134,0.18296100432053208]},{\"label\":\"layer 1\",\"range\":[541,1930],\"values\":[1181,561,1494,1930,679,817,944,747,941,720,908,780,839,670,1022,619,967,914,541,700]},{\"label\":\"layer 2\",\"range\":[37,893],\"values\":[433,893,736,372,485,187,372,296,265,142,37,461,320,165,409,233,270,227,333,312]}],\"line\":{\"color\":[0.44012384900881,0.40742901259975317,0.3854914234596602,0.3739599101432939,0.3548075678484723,0.3522438744201607,0.3429731428728758,0.33834520671538526,0.3375204554295764,0.334937211223798,0.3328807839858952,0.3299459230840013,0.32485869575844195,0.3247004036857398,0.3236419589931079,0.3218449406764946,0.3216381198285987,0.3212791213073896,0.31949505489602964,0.30420269816882184],\"colorscale\":[[0.0,\"rgb(75, 41, 145)\"],[0.16666666666666666,\"rgb(135, 44, 162)\"],[0.3333333333333333,\"rgb(192, 54, 157)\"],[0.5,\"rgb(234, 79, 136)\"],[0.6666666666666666,\"rgb(250, 120, 118)\"],[0.8333333333333334,\"rgb(246, 169, 122)\"],[1.0,\"rgb(237, 217, 163)\"]],\"showscale\":true},\"type\":\"parcoords\"}],                        {\"template\":{\"data\":{\"bar\":[{\"error_x\":{\"color\":\"#2a3f5f\"},\"error_y\":{\"color\":\"#2a3f5f\"},\"marker\":{\"line\":{\"color\":\"#E5ECF6\",\"width\":0.5},\"pattern\":{\"fillmode\":\"overlay\",\"size\":10,\"solidity\":0.2}},\"type\":\"bar\"}],\"barpolar\":[{\"marker\":{\"line\":{\"color\":\"#E5ECF6\",\"width\":0.5},\"pattern\":{\"fillmode\":\"overlay\",\"size\":10,\"solidity\":0.2}},\"type\":\"barpolar\"}],\"carpet\":[{\"aaxis\":{\"endlinecolor\":\"#2a3f5f\",\"gridcolor\":\"white\",\"linecolor\":\"white\",\"minorgridcolor\":\"white\",\"startlinecolor\":\"#2a3f5f\"},\"baxis\":{\"endlinecolor\":\"#2a3f5f\",\"gridcolor\":\"white\",\"linecolor\":\"white\",\"minorgridcolor\":\"white\",\"startlinecolor\":\"#2a3f5f\"},\"type\":\"carpet\"}],\"choropleth\":[{\"colorbar\":{\"outlinewidth\":0,\"ticks\":\"\"},\"type\":\"choropleth\"}],\"contour\":[{\"colorbar\":{\"outlinewidth\":0,\"ticks\":\"\"},\"colorscale\":[[0.0,\"#0d0887\"],[0.1111111111111111,\"#46039f\"],[0.2222222222222222,\"#7201a8\"],[0.3333333333333333,\"#9c179e\"],[0.4444444444444444,\"#bd3786\"],[0.5555555555555556,\"#d8576b\"],[0.6666666666666666,\"#ed7953\"],[0.7777777777777778,\"#fb9f3a\"],[0.8888888888888888,\"#fdca26\"],[1.0,\"#f0f921\"]],\"type\":\"contour\"}],\"contourcarpet\":[{\"colorbar\":{\"outlinewidth\":0,\"ticks\":\"\"},\"type\":\"contourcarpet\"}],\"heatmap\":[{\"colorbar\":{\"outlinewidth\":0,\"ticks\":\"\"},\"colorscale\":[[0.0,\"#0d0887\"],[0.1111111111111111,\"#46039f\"],[0.2222222222222222,\"#7201a8\"],[0.3333333333333333,\"#9c179e\"],[0.4444444444444444,\"#bd3786\"],[0.5555555555555556,\"#d8576b\"],[0.6666666666666666,\"#ed7953\"],[0.7777777777777778,\"#fb9f3a\"],[0.8888888888888888,\"#fdca26\"],[1.0,\"#f0f921\"]],\"type\":\"heatmap\"}],\"heatmapgl\":[{\"colorbar\":{\"outlinewidth\":0,\"ticks\":\"\"},\"colorscale\":[[0.0,\"#0d0887\"],[0.1111111111111111,\"#46039f\"],[0.2222222222222222,\"#7201a8\"],[0.3333333333333333,\"#9c179e\"],[0.4444444444444444,\"#bd3786\"],[0.5555555555555556,\"#d8576b\"],[0.6666666666666666,\"#ed7953\"],[0.7777777777777778,\"#fb9f3a\"],[0.8888888888888888,\"#fdca26\"],[1.0,\"#f0f921\"]],\"type\":\"heatmapgl\"}],\"histogram\":[{\"marker\":{\"pattern\":{\"fillmode\":\"overlay\",\"size\":10,\"solidity\":0.2}},\"type\":\"histogram\"}],\"histogram2d\":[{\"colorbar\":{\"outlinewidth\":0,\"ticks\":\"\"},\"colorscale\":[[0.0,\"#0d0887\"],[0.1111111111111111,\"#46039f\"],[0.2222222222222222,\"#7201a8\"],[0.3333333333333333,\"#9c179e\"],[0.4444444444444444,\"#bd3786\"],[0.5555555555555556,\"#d8576b\"],[0.6666666666666666,\"#ed7953\"],[0.7777777777777778,\"#fb9f3a\"],[0.8888888888888888,\"#fdca26\"],[1.0,\"#f0f921\"]],\"type\":\"histogram2d\"}],\"histogram2dcontour\":[{\"colorbar\":{\"outlinewidth\":0,\"ticks\":\"\"},\"colorscale\":[[0.0,\"#0d0887\"],[0.1111111111111111,\"#46039f\"],[0.2222222222222222,\"#7201a8\"],[0.3333333333333333,\"#9c179e\"],[0.4444444444444444,\"#bd3786\"],[0.5555555555555556,\"#d8576b\"],[0.6666666666666666,\"#ed7953\"],[0.7777777777777778,\"#fb9f3a\"],[0.8888888888888888,\"#fdca26\"],[1.0,\"#f0f921\"]],\"type\":\"histogram2dcontour\"}],\"mesh3d\":[{\"colorbar\":{\"outlinewidth\":0,\"ticks\":\"\"},\"type\":\"mesh3d\"}],\"parcoords\":[{\"line\":{\"colorbar\":{\"outlinewidth\":0,\"ticks\":\"\"}},\"type\":\"parcoords\"}],\"pie\":[{\"automargin\":true,\"type\":\"pie\"}],\"scatter\":[{\"marker\":{\"colorbar\":{\"outlinewidth\":0,\"ticks\":\"\"}},\"type\":\"scatter\"}],\"scatter3d\":[{\"line\":{\"colorbar\":{\"outlinewidth\":0,\"ticks\":\"\"}},\"marker\":{\"colorbar\":{\"outlinewidth\":0,\"ticks\":\"\"}},\"type\":\"scatter3d\"}],\"scattercarpet\":[{\"marker\":{\"colorbar\":{\"outlinewidth\":0,\"ticks\":\"\"}},\"type\":\"scattercarpet\"}],\"scattergeo\":[{\"marker\":{\"colorbar\":{\"outlinewidth\":0,\"ticks\":\"\"}},\"type\":\"scattergeo\"}],\"scattergl\":[{\"marker\":{\"colorbar\":{\"outlinewidth\":0,\"ticks\":\"\"}},\"type\":\"scattergl\"}],\"scattermapbox\":[{\"marker\":{\"colorbar\":{\"outlinewidth\":0,\"ticks\":\"\"}},\"type\":\"scattermapbox\"}],\"scatterpolar\":[{\"marker\":{\"colorbar\":{\"outlinewidth\":0,\"ticks\":\"\"}},\"type\":\"scatterpolar\"}],\"scatterpolargl\":[{\"marker\":{\"colorbar\":{\"outlinewidth\":0,\"ticks\":\"\"}},\"type\":\"scatterpolargl\"}],\"scatterternary\":[{\"marker\":{\"colorbar\":{\"outlinewidth\":0,\"ticks\":\"\"}},\"type\":\"scatterternary\"}],\"surface\":[{\"colorbar\":{\"outlinewidth\":0,\"ticks\":\"\"},\"colorscale\":[[0.0,\"#0d0887\"],[0.1111111111111111,\"#46039f\"],[0.2222222222222222,\"#7201a8\"],[0.3333333333333333,\"#9c179e\"],[0.4444444444444444,\"#bd3786\"],[0.5555555555555556,\"#d8576b\"],[0.6666666666666666,\"#ed7953\"],[0.7777777777777778,\"#fb9f3a\"],[0.8888888888888888,\"#fdca26\"],[1.0,\"#f0f921\"]],\"type\":\"surface\"}],\"table\":[{\"cells\":{\"fill\":{\"color\":\"#EBF0F8\"},\"line\":{\"color\":\"white\"}},\"header\":{\"fill\":{\"color\":\"#C8D4E3\"},\"line\":{\"color\":\"white\"}},\"type\":\"table\"}]},\"layout\":{\"annotationdefaults\":{\"arrowcolor\":\"#2a3f5f\",\"arrowhead\":0,\"arrowwidth\":1},\"autotypenumbers\":\"strict\",\"coloraxis\":{\"colorbar\":{\"outlinewidth\":0,\"ticks\":\"\"}},\"colorscale\":{\"diverging\":[[0,\"#8e0152\"],[0.1,\"#c51b7d\"],[0.2,\"#de77ae\"],[0.3,\"#f1b6da\"],[0.4,\"#fde0ef\"],[0.5,\"#f7f7f7\"],[0.6,\"#e6f5d0\"],[0.7,\"#b8e186\"],[0.8,\"#7fbc41\"],[0.9,\"#4d9221\"],[1,\"#276419\"]],\"sequential\":[[0.0,\"#0d0887\"],[0.1111111111111111,\"#46039f\"],[0.2222222222222222,\"#7201a8\"],[0.3333333333333333,\"#9c179e\"],[0.4444444444444444,\"#bd3786\"],[0.5555555555555556,\"#d8576b\"],[0.6666666666666666,\"#ed7953\"],[0.7777777777777778,\"#fb9f3a\"],[0.8888888888888888,\"#fdca26\"],[1.0,\"#f0f921\"]],\"sequentialminus\":[[0.0,\"#0d0887\"],[0.1111111111111111,\"#46039f\"],[0.2222222222222222,\"#7201a8\"],[0.3333333333333333,\"#9c179e\"],[0.4444444444444444,\"#bd3786\"],[0.5555555555555556,\"#d8576b\"],[0.6666666666666666,\"#ed7953\"],[0.7777777777777778,\"#fb9f3a\"],[0.8888888888888888,\"#fdca26\"],[1.0,\"#f0f921\"]]},\"colorway\":[\"#636efa\",\"#EF553B\",\"#00cc96\",\"#ab63fa\",\"#FFA15A\",\"#19d3f3\",\"#FF6692\",\"#B6E880\",\"#FF97FF\",\"#FECB52\"],\"font\":{\"color\":\"#2a3f5f\"},\"geo\":{\"bgcolor\":\"white\",\"lakecolor\":\"white\",\"landcolor\":\"#E5ECF6\",\"showlakes\":true,\"showland\":true,\"subunitcolor\":\"white\"},\"hoverlabel\":{\"align\":\"left\"},\"hovermode\":\"closest\",\"mapbox\":{\"style\":\"light\"},\"paper_bgcolor\":\"white\",\"plot_bgcolor\":\"#E5ECF6\",\"polar\":{\"angularaxis\":{\"gridcolor\":\"white\",\"linecolor\":\"white\",\"ticks\":\"\"},\"bgcolor\":\"#E5ECF6\",\"radialaxis\":{\"gridcolor\":\"white\",\"linecolor\":\"white\",\"ticks\":\"\"}},\"scene\":{\"xaxis\":{\"backgroundcolor\":\"#E5ECF6\",\"gridcolor\":\"white\",\"gridwidth\":2,\"linecolor\":\"white\",\"showbackground\":true,\"ticks\":\"\",\"zerolinecolor\":\"white\"},\"yaxis\":{\"backgroundcolor\":\"#E5ECF6\",\"gridcolor\":\"white\",\"gridwidth\":2,\"linecolor\":\"white\",\"showbackground\":true,\"ticks\":\"\",\"zerolinecolor\":\"white\"},\"zaxis\":{\"backgroundcolor\":\"#E5ECF6\",\"gridcolor\":\"white\",\"gridwidth\":2,\"linecolor\":\"white\",\"showbackground\":true,\"ticks\":\"\",\"zerolinecolor\":\"white\"}},\"shapedefaults\":{\"line\":{\"color\":\"#2a3f5f\"}},\"ternary\":{\"aaxis\":{\"gridcolor\":\"white\",\"linecolor\":\"white\",\"ticks\":\"\"},\"baxis\":{\"gridcolor\":\"white\",\"linecolor\":\"white\",\"ticks\":\"\"},\"bgcolor\":\"#E5ECF6\",\"caxis\":{\"gridcolor\":\"white\",\"linecolor\":\"white\",\"ticks\":\"\"}},\"title\":{\"x\":0.05},\"xaxis\":{\"automargin\":true,\"gridcolor\":\"white\",\"linecolor\":\"white\",\"ticks\":\"\",\"title\":{\"standoff\":15},\"zerolinecolor\":\"white\",\"zerolinewidth\":2},\"yaxis\":{\"automargin\":true,\"gridcolor\":\"white\",\"linecolor\":\"white\",\"ticks\":\"\",\"title\":{\"standoff\":15},\"zerolinecolor\":\"white\",\"zerolinewidth\":2}}}},                        {\"responsive\": true}                    ).then(function(){\n",
       "                            \n",
       "var gd = document.getElementById('037784c9-df43-4198-b9bd-fbdc602a6dcc');\n",
       "var x = new MutationObserver(function (mutations, observer) {{\n",
       "        var display = window.getComputedStyle(gd).display;\n",
       "        if (!display || display === 'none') {{\n",
       "            console.log([gd, 'removed!']);\n",
       "            Plotly.purge(gd);\n",
       "            observer.disconnect();\n",
       "        }}\n",
       "}});\n",
       "\n",
       "// Listen for the removal of the full notebook cells\n",
       "var notebookContainer = gd.closest('#notebook-container');\n",
       "if (notebookContainer) {{\n",
       "    x.observe(notebookContainer, {childList: true});\n",
       "}}\n",
       "\n",
       "// Listen for the clearing of the current output cell\n",
       "var outputEl = gd.closest('.output');\n",
       "if (outputEl) {{\n",
       "    x.observe(outputEl, {childList: true});\n",
       "}}\n",
       "\n",
       "                        })                };                });            </script>        </div>"
      ]
     },
     "metadata": {},
     "output_type": "display_data"
    }
   ],
   "source": [
    "import plotly.graph_objects as go\n",
    "import matplotlib.pyplot as plt\n",
    "runs_ = runs.copy()\n",
    "dimensions = list([                    \n",
    "                   dict(range=(runs_['valid/mcc'].min(),runs_['valid/mcc'].max()),label='valid/mcc', values=runs_['valid/mcc']),\n",
    "                    dict(range=(runs_['test/mcc'].min(),runs_['test/mcc'].max()),label='test/mcc', values=runs_['test/mcc']),\n",
    "                    dict(range=(runs_['nu (log)'].min(), runs_['nu (log)'].max()),label='nu (log)', values=runs_['nu (log)']),\n",
    "                    dict(range=(runs_['gamma (log)'].min(), runs_['gamma (log)'].max()),label='gamma (log)', values=runs_['gamma (log)']),\n",
    "                    dict(range=(runs_['beta (log)'].min(), runs_['beta (log)'].max()),label='beta (log)', values=runs_['beta (log)']),\n",
    "                    dict(range=(runs_['learning rate (log)'].min(), runs_['learning rate (log)'].max()),label='learning rate (log)', values=runs_['learning rate (log)']),\n",
    "                    dict(range=(runs_['weight decay (log)'].min(), runs_['weight decay (log)'].max()),label='weight decay (log)', values=runs_['weight decay (log)']),\n",
    "                    dict(range=(runs_['warmup'].min(), runs_['warmup'].max()),label='warmup', values=runs_['warmup']),\n",
    "                    dict(range=(runs_['dropout'].min(), runs_['dropout'].max()),label='dropout', values=runs_['dropout']),\n",
    "                    dict(range=(runs_['layer 1'].min(), runs_['layer 1'].max()),label='layer 1', values=runs_['layer 1']),\n",
    "                    dict(range=(runs_['layer 2'].min(), runs_['layer 2'].max()),label='layer 2', values=runs_['layer 2']),\n",
    "                  ])\n",
    "fig = go.Figure(data= go.Parcoords(line = dict(color = runs_['valid/mcc'], colorscale = 'agsunset', showscale=True), dimensions = dimensions))\n",
    "# fig.update_traces(showlegend=True)\n",
    "fig.show()\n",
    "fig.write_image(\"parcoords_log.png\")\n"
   ]
  }
 ],
 "metadata": {
  "kernelspec": {
   "display_name": "Python 3",
   "language": "python",
   "name": "python3"
  },
  "language_info": {
   "codemirror_mode": {
    "name": "ipython",
    "version": 3
   },
   "file_extension": ".py",
   "mimetype": "text/x-python",
   "name": "python",
   "nbconvert_exporter": "python",
   "pygments_lexer": "ipython3",
   "version": "3.8.18"
  }
 },
 "nbformat": 4,
 "nbformat_minor": 2
}
